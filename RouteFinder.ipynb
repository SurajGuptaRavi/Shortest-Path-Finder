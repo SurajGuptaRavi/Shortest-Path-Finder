{
 "cells": [
  {
   "cell_type": "code",
   "execution_count": 1,
   "metadata": {},
   "outputs": [],
   "source": [
    "routes = [\n",
    "    ('virar','nsp'),\n",
    "    ('nsp','vasai'),\n",
    "    ('vasai','naigaon'),\n",
    "    ('vasai','juhuchandra'),\n",
    "    ('juhuchandra','kharbav'),\n",
    "    ('kharbav','kaman'),\n",
    "    ('kaman','bhivandi'),\n",
    "    ('bhivandi','kopar'),\n",
    "    ('naigaon','bhayandar'),\n",
    "    ('bhayandar','mira road'),\n",
    "    ('mira road','dahisar'),\n",
    "    ('dahisar','borivali'),\n",
    "    ('borivali','andheri'),\n",
    "    ('andheri','bandra'),\n",
    "    ('bandra','dadar'),\n",
    "    ('dadar','mumbai central'),\n",
    "    ('dadar','thane'),\n",
    "    ('thane','kopar'),\n",
    "    ('kopar','kalyan'),\n",
    "    ('kalyan','titwala'),\n",
    "    ('mumbai central','churchgate')\n",
    "    \n",
    "]"
   ]
  },
  {
   "cell_type": "code",
   "execution_count": 2,
   "metadata": {},
   "outputs": [],
   "source": [
    "class RouteFinder:\n",
    "    def __init__(self,routes):\n",
    "        self.routes = routes\n",
    "        self.graph_dict = {}\n",
    "        self.reverse_dict = {}\n",
    "        \n",
    "        for start,end in self.routes:\n",
    "            if start in self.graph_dict:\n",
    "                self.graph_dict[start].append(end)\n",
    "            else:\n",
    "                self.graph_dict[start] = [end]\n",
    "        print(f\"forward={self.graph_dict}\")\n",
    "                \n",
    "        for start,end in self.routes:\n",
    "            if end in self.reverse_dict:\n",
    "                self.reverse_dict[end].append(start)\n",
    "            else:\n",
    "                self.reverse_dict[end] = [start]\n",
    "        print(f\"\\nreverse={self.reverse_dict}\")\n",
    "                \n",
    "    def all_path1(self,start,end,path=[]):\n",
    "        path = path + [start]\n",
    "        if start is end:\n",
    "            return [path]\n",
    "        if start not in self.graph_dict:\n",
    "            return []\n",
    "        \n",
    "        paths=[]\n",
    "        for node in self.graph_dict[start]:\n",
    "            if node not in path:\n",
    "                new_path = self.all_path1(node,end,path)\n",
    "                for p in new_path:\n",
    "                    paths.append(p)\n",
    "                \n",
    "        return paths\n",
    "    \n",
    "    def all_path2(self,start,end,path=[]):\n",
    "        path = path + [start]\n",
    "        if start is end:\n",
    "            return [path]\n",
    "        if start not in self.reverse_dict:\n",
    "            return []\n",
    "        \n",
    "        paths=[]\n",
    "        for node in self.reverse_dict[start]:\n",
    "            if node not in path:\n",
    "                new_path = self.all_path2(node,end,path)\n",
    "                for p in new_path:\n",
    "                    paths.append(p)\n",
    "                \n",
    "        return paths\n",
    "    \n",
    "    \n",
    "    def get_shortest_path1(self,start,end,path=[]):\n",
    "        #all_paths = self.all_path(start,end)\n",
    "        path = path + [start]\n",
    "        if start is end:\n",
    "            return path\n",
    "        if start not in self.graph_dict:\n",
    "            return None\n",
    "        \n",
    "        shortest_path = None\n",
    "        for node in self.graph_dict[start]:\n",
    "            if node not in path:\n",
    "                new_path = self.get_shortest_path1(node,end,path)\n",
    "                if new_path:\n",
    "                    if shortest_path is None or len(new_path) < len(shortest_path):\n",
    "                        shortest_path = new_path\n",
    "                        \n",
    "        return shortest_path\n",
    "    \n",
    "    def get_shortest_path2(self,start,end,path=[]):\n",
    "        #all_paths = self.all_path(start,end)\n",
    "        path = path + [start]\n",
    "        if start is end:\n",
    "            return path\n",
    "        if start not in self.reverse_dict:\n",
    "            return None\n",
    "        \n",
    "        shortest_path = None\n",
    "        for node in self.reverse_dict[start]:\n",
    "            if node not in path:\n",
    "                new_path = self.get_shortest_path2(node,end,path)\n",
    "                if new_path:\n",
    "                    if shortest_path is None or len(new_path) < len(shortest_path):\n",
    "                        shortest_path = new_path\n",
    "                        \n",
    "        return shortest_path\n",
    "    \n",
    "    #for finding all path between 2 city\n",
    "    def all_path(self,start,end,path=[]):\n",
    "        try:\n",
    "            \n",
    "            pl = self.all_path1(start,end)\n",
    "        except:\n",
    "            pass\n",
    "        \n",
    "        try:\n",
    "            p1 = self.all_path2(start,end)\n",
    "        except:\n",
    "            pass\n",
    "        \n",
    "        return p1\n",
    "    \n",
    "    #for finding the shortest path between 2 city\n",
    "    def get_shortest_path(self,start,end):\n",
    "        try:\n",
    "            p1 = self.get_shortest_path1(start,end)\n",
    "            \n",
    "        except:\n",
    "            pass\n",
    "            \n",
    "        try:\n",
    "            p2 = self.get_shortest_path2(start,end)\n",
    "\n",
    "        except:\n",
    "            pass\n",
    "        \n",
    "        if p1:\n",
    "            return p1\n",
    "        else:\n",
    "            return p2\n"
   ]
  },
  {
   "cell_type": "code",
   "execution_count": 4,
   "metadata": {},
   "outputs": [
    {
     "name": "stdout",
     "output_type": "stream",
     "text": [
      "forward={'virar': ['nsp'], 'nsp': ['vasai'], 'vasai': ['naigaon', 'juhuchandra'], 'juhuchandra': ['kharbav'], 'kharbav': ['kaman'], 'kaman': ['bhivandi'], 'bhivandi': ['kopar'], 'naigaon': ['bhayandar'], 'bhayandar': ['mira road'], 'mira road': ['dahisar'], 'dahisar': ['borivali'], 'borivali': ['andheri'], 'andheri': ['bandra'], 'bandra': ['dadar'], 'dadar': ['mumbai central', 'thane'], 'thane': ['kopar'], 'kopar': ['kalyan'], 'kalyan': ['titwala'], 'mumbai central': ['churchgate']}\n",
      "\n",
      "reverse={'nsp': ['virar'], 'vasai': ['nsp'], 'naigaon': ['vasai'], 'juhuchandra': ['vasai'], 'kharbav': ['juhuchandra'], 'kaman': ['kharbav'], 'bhivandi': ['kaman'], 'kopar': ['bhivandi', 'thane'], 'bhayandar': ['naigaon'], 'mira road': ['bhayandar'], 'dahisar': ['mira road'], 'borivali': ['dahisar'], 'andheri': ['borivali'], 'bandra': ['andheri'], 'dadar': ['bandra'], 'mumbai central': ['dadar'], 'thane': ['dadar'], 'kalyan': ['kopar'], 'titwala': ['kalyan'], 'churchgate': ['mumbai central']}\n"
     ]
    }
   ],
   "source": [
    "rf = RouteFinder(routes)"
   ]
  },
  {
   "cell_type": "code",
   "execution_count": 5,
   "metadata": {},
   "outputs": [
    {
     "data": {
      "text/plain": [
       "{'virar': ['nsp'],\n",
       " 'nsp': ['vasai'],\n",
       " 'vasai': ['naigaon', 'juhuchandra'],\n",
       " 'juhuchandra': ['kharbav'],\n",
       " 'kharbav': ['kaman'],\n",
       " 'kaman': ['bhivandi'],\n",
       " 'bhivandi': ['kopar'],\n",
       " 'naigaon': ['bhayandar'],\n",
       " 'bhayandar': ['mira road'],\n",
       " 'mira road': ['dahisar'],\n",
       " 'dahisar': ['borivali'],\n",
       " 'borivali': ['andheri'],\n",
       " 'andheri': ['bandra'],\n",
       " 'bandra': ['dadar'],\n",
       " 'dadar': ['mumbai central', 'thane'],\n",
       " 'thane': ['kopar'],\n",
       " 'kopar': ['kalyan'],\n",
       " 'kalyan': ['titwala'],\n",
       " 'mumbai central': ['churchgate']}"
      ]
     },
     "execution_count": 5,
     "metadata": {},
     "output_type": "execute_result"
    }
   ],
   "source": [
    "#path\n",
    "rf.graph_dict"
   ]
  },
  {
   "cell_type": "code",
   "execution_count": 6,
   "metadata": {},
   "outputs": [
    {
     "data": {
      "text/plain": [
       "{'nsp': ['virar'],\n",
       " 'vasai': ['nsp'],\n",
       " 'naigaon': ['vasai'],\n",
       " 'juhuchandra': ['vasai'],\n",
       " 'kharbav': ['juhuchandra'],\n",
       " 'kaman': ['kharbav'],\n",
       " 'bhivandi': ['kaman'],\n",
       " 'kopar': ['bhivandi', 'thane'],\n",
       " 'bhayandar': ['naigaon'],\n",
       " 'mira road': ['bhayandar'],\n",
       " 'dahisar': ['mira road'],\n",
       " 'borivali': ['dahisar'],\n",
       " 'andheri': ['borivali'],\n",
       " 'bandra': ['andheri'],\n",
       " 'dadar': ['bandra'],\n",
       " 'mumbai central': ['dadar'],\n",
       " 'thane': ['dadar'],\n",
       " 'kalyan': ['kopar'],\n",
       " 'titwala': ['kalyan'],\n",
       " 'churchgate': ['mumbai central']}"
      ]
     },
     "execution_count": 6,
     "metadata": {},
     "output_type": "execute_result"
    }
   ],
   "source": [
    "#reverse path\n",
    "rf.reverse_dict"
   ]
  },
  {
   "cell_type": "code",
   "execution_count": 7,
   "metadata": {},
   "outputs": [
    {
     "data": {
      "text/plain": [
       "[['kopar',\n",
       "  'bhivandi',\n",
       "  'kaman',\n",
       "  'kharbav',\n",
       "  'juhuchandra',\n",
       "  'vasai',\n",
       "  'nsp',\n",
       "  'virar'],\n",
       " ['kopar',\n",
       "  'thane',\n",
       "  'dadar',\n",
       "  'bandra',\n",
       "  'andheri',\n",
       "  'borivali',\n",
       "  'dahisar',\n",
       "  'mira road',\n",
       "  'bhayandar',\n",
       "  'naigaon',\n",
       "  'vasai',\n",
       "  'nsp',\n",
       "  'virar']]"
      ]
     },
     "execution_count": 7,
     "metadata": {},
     "output_type": "execute_result"
    }
   ],
   "source": [
    "#all path between 2 city\n",
    "rf.all_path('kopar','virar')"
   ]
  },
  {
   "cell_type": "code",
   "execution_count": 8,
   "metadata": {},
   "outputs": [
    {
     "data": {
      "text/plain": [
       "['virar',\n",
       " 'nsp',\n",
       " 'vasai',\n",
       " 'juhuchandra',\n",
       " 'kharbav',\n",
       " 'kaman',\n",
       " 'bhivandi',\n",
       " 'kopar']"
      ]
     },
     "execution_count": 8,
     "metadata": {},
     "output_type": "execute_result"
    }
   ],
   "source": [
    "#shortest path between 2 city\n",
    "rf.get_shortest_path('virar','kopar')"
   ]
  },
  {
   "cell_type": "code",
   "execution_count": null,
   "metadata": {},
   "outputs": [],
   "source": []
  }
 ],
 "metadata": {
  "kernelspec": {
   "display_name": "Python 3",
   "language": "python",
   "name": "python3"
  },
  "language_info": {
   "codemirror_mode": {
    "name": "ipython",
    "version": 3
   },
   "file_extension": ".py",
   "mimetype": "text/x-python",
   "name": "python",
   "nbconvert_exporter": "python",
   "pygments_lexer": "ipython3",
   "version": "3.6.5"
  }
 },
 "nbformat": 4,
 "nbformat_minor": 4
}
